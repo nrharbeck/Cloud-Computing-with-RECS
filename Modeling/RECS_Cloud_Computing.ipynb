{
  "nbformat": 4,
  "nbformat_minor": 0,
  "metadata": {
    "colab": {
      "name": "REC_Cloud_Computing",
      "provenance": [],
      "collapsed_sections": []
    },
    "kernelspec": {
      "name": "python3",
      "display_name": "Python 3"
    },
    "language_info": {
      "name": "python"
    }
  },
  "cells": [
    {
      "cell_type": "code",
      "metadata": {
        "colab": {
          "base_uri": "https://localhost:8080/"
        },
        "id": "J7xHi6EmpUZu",
        "outputId": "903c504d-706e-40f4-a78e-217ade2e4783"
      },
      "source": [
        "import pandas as pd\n",
        "import numpy as np\n",
        "\n",
        "#Data comes from the U.S. Energy Information Administration\n",
        "df = pd.read_csv(\"https://www.eia.gov/consumption/residential/data/2015/csv/recs2015_public_v4.csv\")\n",
        "\n",
        "print(df)\n",
        "\n",
        "#KWH is probably the most useful target\n",
        "Target = 'KWH'\n",
        "print(df[Target].describe())"
      ],
      "execution_count": 2,
      "outputs": [
        {
          "output_type": "stream",
          "text": [
            "      DOEID  REGIONC  DIVISION  ... LPXBTU PERIODLP  ZLPAMOUNT\n",
            "0     10001        4        10  ...  91.33       -2         -2\n",
            "1     10002        3         7  ...  91.33       -2         -2\n",
            "2     10003        3         6  ...  91.33       -2         -2\n",
            "3     10004        2         4  ...  91.33        2          0\n",
            "4     10005        1         2  ...  91.33       -2         -2\n",
            "...     ...      ...       ...  ...    ...      ...        ...\n",
            "5681  15682        2         3  ...  91.33       -2         -2\n",
            "5682  15683        3         6  ...  91.33       -2         -2\n",
            "5683  15684        2         3  ...  91.33       -2         -2\n",
            "5684  15685        3         7  ...  91.33       -2         -2\n",
            "5685  15686        2         3  ...  91.33       -2         -2\n",
            "\n",
            "[5686 rows x 759 columns]\n",
            "count     5686.000000\n",
            "mean     11028.934872\n",
            "std       7049.727589\n",
            "min         59.078000\n",
            "25%       5926.525750\n",
            "50%       9549.351000\n",
            "75%      14557.606750\n",
            "max      63216.806000\n",
            "Name: KWH, dtype: float64\n"
          ],
          "name": "stdout"
        }
      ]
    },
    {
      "cell_type": "code",
      "metadata": {
        "colab": {
          "base_uri": "https://localhost:8080/"
        },
        "id": "ibsPm9w6pu-C",
        "outputId": "4948cc66-ea09-4574-b322-2a7eeb5c981d"
      },
      "source": [
        "#First, all imputation code columns are removed\n",
        "df = df.loc[:, ~df.columns.str.startswith('Z')]\n",
        "\n",
        "Census_Dict = {1:'New England', 2:'Middle Atlantic', 3:'East North Central', 4:'West North Central', 5:'South Atlantic', 6:'East South Central',7:'West South Central', 8:'Mountain North', 9:'Mountain South', 10:'Pacific'}\n",
        "\n",
        "\n",
        "#Specify the list of housing features for model building. RECS Code information from https://www.eia.gov/consumption/residential/data/2015/xls/codebook_publicv4.xlsx\n",
        "X_Features = ['REGIONC','TYPEHUQ','DISHWASH', 'CWASHER', 'DRYER', 'AIRCOND','NUMBERAC', 'NUMCFAN','NUMFLOORFAN','NUMWHOLEFAN','NUMATTICFAN','NOTMOIST','FUELH2O','USEEL','ELWARM','ELCOOL','ELWATER','ELFOOD','ELOTHER','TOTCSQFT','TOTHSQFT','TOTSQFT_EN','HEATHOME','TVCOLOR']\n",
        "\n",
        "X = df[X_Features]\n",
        "\n",
        "#Now replace an instance of negative numbers with 0 (i.e. no count of a feature)\n",
        "X = X.clip(lower=0)\n",
        "X = X.replace({\"REGIONC\": Census_Dict})\n",
        "\n",
        "#For reference, list of features with present/not present indicators\n",
        "X_Cat_Features = [i for i in X_Features if not i.startswith(\"NUM\") | i.startswith(\"TVCOLOR\") | i.startswith(\"TOT\")]\n",
        "\n",
        "#Encode region features\n",
        "X = pd.get_dummies(X)\n",
        "y = df['KWH']\n",
        "\n",
        "#Here's the formatted features and target\n",
        "print(X)\n",
        "print(y)"
      ],
      "execution_count": 4,
      "outputs": [
        {
          "output_type": "stream",
          "text": [
            "      TYPEHUQ  DISHWASH  ...  REGIONC_New England  REGIONC_West North Central\n",
            "0           2         1  ...                    0                           1\n",
            "1           2         0  ...                    0                           0\n",
            "2           2         1  ...                    0                           0\n",
            "3           2         0  ...                    0                           0\n",
            "4           2         0  ...                    1                           0\n",
            "...       ...       ...  ...                  ...                         ...\n",
            "5681        5         0  ...                    0                           0\n",
            "5682        2         0  ...                    0                           0\n",
            "5683        5         0  ...                    0                           0\n",
            "5684        2         1  ...                    0                           0\n",
            "5685        4         1  ...                    0                           0\n",
            "\n",
            "[5686 rows x 27 columns]\n",
            "0        5270.742\n",
            "1       12173.000\n",
            "2       19655.394\n",
            "3        9852.535\n",
            "4        3115.655\n",
            "          ...    \n",
            "5681     1945.000\n",
            "5682     4688.774\n",
            "5683     3611.729\n",
            "5684    13972.422\n",
            "5685    10895.200\n",
            "Name: KWH, Length: 5686, dtype: float64\n"
          ],
          "name": "stdout"
        }
      ]
    },
    {
      "cell_type": "code",
      "metadata": {
        "id": "1GADHTX93qcX"
      },
      "source": [
        "#Split data into train and test sets. Validation with the training set will be incorporated into the pipeline below\n",
        "from sklearn.model_selection import train_test_split\n",
        "\n",
        "X_train, X_test, y_train, y_test = train_test_split(X, y, test_size=0.2, random_state=42)"
      ],
      "execution_count": 5,
      "outputs": []
    },
    {
      "cell_type": "code",
      "metadata": {
        "colab": {
          "base_uri": "https://localhost:8080/"
        },
        "id": "BC6BLaN03OTq",
        "outputId": "f0455f73-65c6-4c73-fd55-c7a67a9262a9"
      },
      "source": [
        "#Model building with Keras MLP\n",
        "from tensorflow.keras import Sequential\n",
        "from tensorflow.keras.layers import Dense\n",
        "# determine the number of input features\n",
        "n_features = X_train.shape[1]\n",
        "# define model\n",
        "model = Sequential()\n",
        "model.add(Dense(60, activation='relu', kernel_initializer='he_normal', input_shape=(n_features,)))\n",
        "model.add(Dense(10, activation='relu'))\n",
        "model.add(Dense(1, activation='relu'))\n",
        "# compile the model\n",
        "model.compile(optimizer='adam', loss='MeanSquaredError')\n",
        "# fit the model\n",
        "model.fit(X_train, y_train, epochs=150, batch_size=32, verbose=0)"
      ],
      "execution_count": 6,
      "outputs": [
        {
          "output_type": "execute_result",
          "data": {
            "text/plain": [
              "<tensorflow.python.keras.callbacks.History at 0x7f3000fa48d0>"
            ]
          },
          "metadata": {
            "tags": []
          },
          "execution_count": 6
        }
      ]
    },
    {
      "cell_type": "code",
      "metadata": {
        "colab": {
          "base_uri": "https://localhost:8080/"
        },
        "id": "Kwg6za2Z352f",
        "outputId": "55e9fadf-ad7b-415a-b9fc-763825eb111a"
      },
      "source": [
        "# evaluate the model\n",
        "error_train = model.evaluate(X_train, y_train, verbose=0)\n",
        "error = model.evaluate(X_test, y_test, verbose=0)\n",
        "\n",
        "print('Training set MSE: %.3f' % error_train)\n",
        "print('Training set RMSE: %.3f' % np.sqrt(error_train))\n",
        "print('Test set MSE: %.3f' % error) \n",
        "print('Test set RMSE: %.3f' % np.sqrt(error))\n",
        "\n",
        "#Now that error is below the standard deviation, it looks like we have a working model!\n",
        "\n",
        "#View how the test set predictions and true values vary\n",
        "print(\"Average Absolute Error:\", round(np.average(np.abs(model.predict(X_test)-np.array(y_test).reshape(-1,1))),3))\n",
        "print(\"Error Standard Deviation:\", round(np.std(model.predict(X_test)-np.array(y_test).reshape(-1,1)),3))\n",
        "\n",
        "#Uncomment the below to see the results!\n",
        "#print(np.array(model.predict(X_test)).reshape(-1,1)[:5])\n",
        "#print(np.array(y_test).reshape(-1,1)[:5])"
      ],
      "execution_count": 12,
      "outputs": [
        {
          "output_type": "stream",
          "text": [
            "Training set MSE: 26158166.000\n",
            "Training set RMSE: 5114.505\n",
            "Test set MSE: 25531752.000\n",
            "Test set RMSE: 5052.895\n",
            "Average Absolute Error: 3665.531\n",
            "Error Standard Deviation: 5013.375\n",
            "[[ 2379.0874]\n",
            " [12316.427 ]\n",
            " [15171.713 ]\n",
            " [ 8601.036 ]\n",
            " [20828.34  ]]\n",
            "[[ 4601.811]\n",
            " [14049.246]\n",
            " [17559.995]\n",
            " [ 9244.033]\n",
            " [16000.457]]\n"
          ],
          "name": "stdout"
        }
      ]
    }
  ]
}